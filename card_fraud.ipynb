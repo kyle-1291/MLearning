{
  "cells": [
    {
      "cell_type": "markdown",
      "metadata": {
        "id": "zsuj7WC997FL"
      },
      "source": [
        "Importing the Data Set"
      ]
    },
    {
      "cell_type": "code",
      "execution_count": null,
      "metadata": {
        "colab": {
          "base_uri": "https://localhost:8080/"
        },
        "id": "Y0Tf1jJd1_QE",
        "outputId": "01867cfd-8b29-454d-a9d6-01e481dca615"
      },
      "outputs": [
        {
          "name": "stdout",
          "output_type": "stream",
          "text": [
            "Drive already mounted at /content/drive; to attempt to forcibly remount, call drive.mount(\"/content/drive\", force_remount=True).\n"
          ]
        }
      ],
      "source": [
        "from google.colab import drive\n",
        "\n",
        "drive.mount('/content/drive')"
      ]
    },
    {
      "cell_type": "markdown",
      "metadata": {
        "id": "9o34pWBI-BpC"
      },
      "source": [
        "Importing required liabraries"
      ]
    },
    {
      "cell_type": "code",
      "execution_count": null,
      "metadata": {
        "id": "hzaXUqNZ6SD6"
      },
      "outputs": [],
      "source": [
        "import pandas as pd\n",
        "import numpy as np\n",
        "import matplotlib.pyplot as plt\n",
        "import seaborn as sns\n",
        "from matplotlib import gridspec"
      ]
    },
    {
      "cell_type": "code",
      "execution_count": null,
      "metadata": {
        "colab": {
          "background_save": true
        },
        "id": "K7MEnrvV6YFE"
      },
      "outputs": [],
      "source": [
        "path = \"/content/drive/MyDrive/Colab_Notebooks/Fraud.csv\"\n",
        "df_bonus = pd.read_csv(path)"
      ]
    },
    {
      "cell_type": "code",
      "execution_count": null,
      "metadata": {
        "colab": {
          "background_save": true
        },
        "id": "vfTFgqoB7yc1"
      },
      "outputs": [],
      "source": [
        "df = df_bonus.copy()"
      ]
    },
    {
      "cell_type": "code",
      "execution_count": null,
      "metadata": {
        "colab": {
          "background_save": true,
          "base_uri": "https://localhost:8080/",
          "height": 676
        },
        "id": "Dy8TRRrTRPby",
        "outputId": "54a707bd-9aa1-4750-d9ee-92a46a2e8d9e"
      },
      "outputs": [
        {
          "data": {
            "application/vnd.google.colaboratory.intrinsic+json": {
              "type": "dataframe",
              "variable_name": "df"
            },
            "text/html": [
              "\n",
              "  <div id=\"df-e8e7d9f4-a9af-4177-a73e-6f20e35e52d8\" class=\"colab-df-container\">\n",
              "    <div>\n",
              "<style scoped>\n",
              "    .dataframe tbody tr th:only-of-type {\n",
              "        vertical-align: middle;\n",
              "    }\n",
              "\n",
              "    .dataframe tbody tr th {\n",
              "        vertical-align: top;\n",
              "    }\n",
              "\n",
              "    .dataframe thead th {\n",
              "        text-align: right;\n",
              "    }\n",
              "</style>\n",
              "<table border=\"1\" class=\"dataframe\">\n",
              "  <thead>\n",
              "    <tr style=\"text-align: right;\">\n",
              "      <th></th>\n",
              "      <th>step</th>\n",
              "      <th>type</th>\n",
              "      <th>amount</th>\n",
              "      <th>nameOrig</th>\n",
              "      <th>oldbalanceOrg</th>\n",
              "      <th>newbalanceOrig</th>\n",
              "      <th>nameDest</th>\n",
              "      <th>oldbalanceDest</th>\n",
              "      <th>newbalanceDest</th>\n",
              "      <th>isFraud</th>\n",
              "      <th>isFlaggedFraud</th>\n",
              "    </tr>\n",
              "  </thead>\n",
              "  <tbody>\n",
              "    <tr>\n",
              "      <th>0</th>\n",
              "      <td>1</td>\n",
              "      <td>PAYMENT</td>\n",
              "      <td>9839.64</td>\n",
              "      <td>C1231006815</td>\n",
              "      <td>170136.00</td>\n",
              "      <td>160296.36</td>\n",
              "      <td>M1979787155</td>\n",
              "      <td>0.0</td>\n",
              "      <td>0.00</td>\n",
              "      <td>0</td>\n",
              "      <td>0</td>\n",
              "    </tr>\n",
              "    <tr>\n",
              "      <th>1</th>\n",
              "      <td>1</td>\n",
              "      <td>PAYMENT</td>\n",
              "      <td>1864.28</td>\n",
              "      <td>C1666544295</td>\n",
              "      <td>21249.00</td>\n",
              "      <td>19384.72</td>\n",
              "      <td>M2044282225</td>\n",
              "      <td>0.0</td>\n",
              "      <td>0.00</td>\n",
              "      <td>0</td>\n",
              "      <td>0</td>\n",
              "    </tr>\n",
              "    <tr>\n",
              "      <th>2</th>\n",
              "      <td>1</td>\n",
              "      <td>TRANSFER</td>\n",
              "      <td>181.00</td>\n",
              "      <td>C1305486145</td>\n",
              "      <td>181.00</td>\n",
              "      <td>0.00</td>\n",
              "      <td>C553264065</td>\n",
              "      <td>0.0</td>\n",
              "      <td>0.00</td>\n",
              "      <td>1</td>\n",
              "      <td>0</td>\n",
              "    </tr>\n",
              "    <tr>\n",
              "      <th>3</th>\n",
              "      <td>1</td>\n",
              "      <td>CASH_OUT</td>\n",
              "      <td>181.00</td>\n",
              "      <td>C840083671</td>\n",
              "      <td>181.00</td>\n",
              "      <td>0.00</td>\n",
              "      <td>C38997010</td>\n",
              "      <td>21182.0</td>\n",
              "      <td>0.00</td>\n",
              "      <td>1</td>\n",
              "      <td>0</td>\n",
              "    </tr>\n",
              "    <tr>\n",
              "      <th>4</th>\n",
              "      <td>1</td>\n",
              "      <td>PAYMENT</td>\n",
              "      <td>11668.14</td>\n",
              "      <td>C2048537720</td>\n",
              "      <td>41554.00</td>\n",
              "      <td>29885.86</td>\n",
              "      <td>M1230701703</td>\n",
              "      <td>0.0</td>\n",
              "      <td>0.00</td>\n",
              "      <td>0</td>\n",
              "      <td>0</td>\n",
              "    </tr>\n",
              "    <tr>\n",
              "      <th>5</th>\n",
              "      <td>1</td>\n",
              "      <td>PAYMENT</td>\n",
              "      <td>7817.71</td>\n",
              "      <td>C90045638</td>\n",
              "      <td>53860.00</td>\n",
              "      <td>46042.29</td>\n",
              "      <td>M573487274</td>\n",
              "      <td>0.0</td>\n",
              "      <td>0.00</td>\n",
              "      <td>0</td>\n",
              "      <td>0</td>\n",
              "    </tr>\n",
              "    <tr>\n",
              "      <th>6</th>\n",
              "      <td>1</td>\n",
              "      <td>PAYMENT</td>\n",
              "      <td>7107.77</td>\n",
              "      <td>C154988899</td>\n",
              "      <td>183195.00</td>\n",
              "      <td>176087.23</td>\n",
              "      <td>M408069119</td>\n",
              "      <td>0.0</td>\n",
              "      <td>0.00</td>\n",
              "      <td>0</td>\n",
              "      <td>0</td>\n",
              "    </tr>\n",
              "    <tr>\n",
              "      <th>7</th>\n",
              "      <td>1</td>\n",
              "      <td>PAYMENT</td>\n",
              "      <td>7861.64</td>\n",
              "      <td>C1912850431</td>\n",
              "      <td>176087.23</td>\n",
              "      <td>168225.59</td>\n",
              "      <td>M633326333</td>\n",
              "      <td>0.0</td>\n",
              "      <td>0.00</td>\n",
              "      <td>0</td>\n",
              "      <td>0</td>\n",
              "    </tr>\n",
              "    <tr>\n",
              "      <th>8</th>\n",
              "      <td>1</td>\n",
              "      <td>PAYMENT</td>\n",
              "      <td>4024.36</td>\n",
              "      <td>C1265012928</td>\n",
              "      <td>2671.00</td>\n",
              "      <td>0.00</td>\n",
              "      <td>M1176932104</td>\n",
              "      <td>0.0</td>\n",
              "      <td>0.00</td>\n",
              "      <td>0</td>\n",
              "      <td>0</td>\n",
              "    </tr>\n",
              "    <tr>\n",
              "      <th>9</th>\n",
              "      <td>1</td>\n",
              "      <td>DEBIT</td>\n",
              "      <td>5337.77</td>\n",
              "      <td>C712410124</td>\n",
              "      <td>41720.00</td>\n",
              "      <td>36382.23</td>\n",
              "      <td>C195600860</td>\n",
              "      <td>41898.0</td>\n",
              "      <td>40348.79</td>\n",
              "      <td>0</td>\n",
              "      <td>0</td>\n",
              "    </tr>\n",
              "    <tr>\n",
              "      <th>10</th>\n",
              "      <td>1</td>\n",
              "      <td>DEBIT</td>\n",
              "      <td>9644.94</td>\n",
              "      <td>C1900366749</td>\n",
              "      <td>4465.00</td>\n",
              "      <td>0.00</td>\n",
              "      <td>C997608398</td>\n",
              "      <td>10845.0</td>\n",
              "      <td>157982.12</td>\n",
              "      <td>0</td>\n",
              "      <td>0</td>\n",
              "    </tr>\n",
              "    <tr>\n",
              "      <th>11</th>\n",
              "      <td>1</td>\n",
              "      <td>PAYMENT</td>\n",
              "      <td>3099.97</td>\n",
              "      <td>C249177573</td>\n",
              "      <td>20771.00</td>\n",
              "      <td>17671.03</td>\n",
              "      <td>M2096539129</td>\n",
              "      <td>0.0</td>\n",
              "      <td>0.00</td>\n",
              "      <td>0</td>\n",
              "      <td>0</td>\n",
              "    </tr>\n",
              "    <tr>\n",
              "      <th>12</th>\n",
              "      <td>1</td>\n",
              "      <td>PAYMENT</td>\n",
              "      <td>2560.74</td>\n",
              "      <td>C1648232591</td>\n",
              "      <td>5070.00</td>\n",
              "      <td>2509.26</td>\n",
              "      <td>M972865270</td>\n",
              "      <td>0.0</td>\n",
              "      <td>0.00</td>\n",
              "      <td>0</td>\n",
              "      <td>0</td>\n",
              "    </tr>\n",
              "    <tr>\n",
              "      <th>13</th>\n",
              "      <td>1</td>\n",
              "      <td>PAYMENT</td>\n",
              "      <td>11633.76</td>\n",
              "      <td>C1716932897</td>\n",
              "      <td>10127.00</td>\n",
              "      <td>0.00</td>\n",
              "      <td>M801569151</td>\n",
              "      <td>0.0</td>\n",
              "      <td>0.00</td>\n",
              "      <td>0</td>\n",
              "      <td>0</td>\n",
              "    </tr>\n",
              "    <tr>\n",
              "      <th>14</th>\n",
              "      <td>1</td>\n",
              "      <td>PAYMENT</td>\n",
              "      <td>4098.78</td>\n",
              "      <td>C1026483832</td>\n",
              "      <td>503264.00</td>\n",
              "      <td>499165.22</td>\n",
              "      <td>M1635378213</td>\n",
              "      <td>0.0</td>\n",
              "      <td>0.00</td>\n",
              "      <td>0</td>\n",
              "      <td>0</td>\n",
              "    </tr>\n",
              "    <tr>\n",
              "      <th>15</th>\n",
              "      <td>1</td>\n",
              "      <td>CASH_OUT</td>\n",
              "      <td>229133.94</td>\n",
              "      <td>C905080434</td>\n",
              "      <td>15325.00</td>\n",
              "      <td>0.00</td>\n",
              "      <td>C476402209</td>\n",
              "      <td>5083.0</td>\n",
              "      <td>51513.44</td>\n",
              "      <td>0</td>\n",
              "      <td>0</td>\n",
              "    </tr>\n",
              "    <tr>\n",
              "      <th>16</th>\n",
              "      <td>1</td>\n",
              "      <td>PAYMENT</td>\n",
              "      <td>1563.82</td>\n",
              "      <td>C761750706</td>\n",
              "      <td>450.00</td>\n",
              "      <td>0.00</td>\n",
              "      <td>M1731217984</td>\n",
              "      <td>0.0</td>\n",
              "      <td>0.00</td>\n",
              "      <td>0</td>\n",
              "      <td>0</td>\n",
              "    </tr>\n",
              "    <tr>\n",
              "      <th>17</th>\n",
              "      <td>1</td>\n",
              "      <td>PAYMENT</td>\n",
              "      <td>1157.86</td>\n",
              "      <td>C1237762639</td>\n",
              "      <td>21156.00</td>\n",
              "      <td>19998.14</td>\n",
              "      <td>M1877062907</td>\n",
              "      <td>0.0</td>\n",
              "      <td>0.00</td>\n",
              "      <td>0</td>\n",
              "      <td>0</td>\n",
              "    </tr>\n",
              "    <tr>\n",
              "      <th>18</th>\n",
              "      <td>1</td>\n",
              "      <td>PAYMENT</td>\n",
              "      <td>671.64</td>\n",
              "      <td>C2033524545</td>\n",
              "      <td>15123.00</td>\n",
              "      <td>14451.36</td>\n",
              "      <td>M473053293</td>\n",
              "      <td>0.0</td>\n",
              "      <td>0.00</td>\n",
              "      <td>0</td>\n",
              "      <td>0</td>\n",
              "    </tr>\n",
              "    <tr>\n",
              "      <th>19</th>\n",
              "      <td>1</td>\n",
              "      <td>TRANSFER</td>\n",
              "      <td>215310.30</td>\n",
              "      <td>C1670993182</td>\n",
              "      <td>705.00</td>\n",
              "      <td>0.00</td>\n",
              "      <td>C1100439041</td>\n",
              "      <td>22425.0</td>\n",
              "      <td>0.00</td>\n",
              "      <td>0</td>\n",
              "      <td>0</td>\n",
              "    </tr>\n",
              "  </tbody>\n",
              "</table>\n",
              "</div>\n",
              "    <div class=\"colab-df-buttons\">\n",
              "\n",
              "  <div class=\"colab-df-container\">\n",
              "    <button class=\"colab-df-convert\" onclick=\"convertToInteractive('df-e8e7d9f4-a9af-4177-a73e-6f20e35e52d8')\"\n",
              "            title=\"Convert this dataframe to an interactive table.\"\n",
              "            style=\"display:none;\">\n",
              "\n",
              "  <svg xmlns=\"http://www.w3.org/2000/svg\" height=\"24px\" viewBox=\"0 -960 960 960\">\n",
              "    <path d=\"M120-120v-720h720v720H120Zm60-500h600v-160H180v160Zm220 220h160v-160H400v160Zm0 220h160v-160H400v160ZM180-400h160v-160H180v160Zm440 0h160v-160H620v160ZM180-180h160v-160H180v160Zm440 0h160v-160H620v160Z\"/>\n",
              "  </svg>\n",
              "    </button>\n",
              "\n",
              "  <style>\n",
              "    .colab-df-container {\n",
              "      display:flex;\n",
              "      gap: 12px;\n",
              "    }\n",
              "\n",
              "    .colab-df-convert {\n",
              "      background-color: #E8F0FE;\n",
              "      border: none;\n",
              "      border-radius: 50%;\n",
              "      cursor: pointer;\n",
              "      display: none;\n",
              "      fill: #1967D2;\n",
              "      height: 32px;\n",
              "      padding: 0 0 0 0;\n",
              "      width: 32px;\n",
              "    }\n",
              "\n",
              "    .colab-df-convert:hover {\n",
              "      background-color: #E2EBFA;\n",
              "      box-shadow: 0px 1px 2px rgba(60, 64, 67, 0.3), 0px 1px 3px 1px rgba(60, 64, 67, 0.15);\n",
              "      fill: #174EA6;\n",
              "    }\n",
              "\n",
              "    .colab-df-buttons div {\n",
              "      margin-bottom: 4px;\n",
              "    }\n",
              "\n",
              "    [theme=dark] .colab-df-convert {\n",
              "      background-color: #3B4455;\n",
              "      fill: #D2E3FC;\n",
              "    }\n",
              "\n",
              "    [theme=dark] .colab-df-convert:hover {\n",
              "      background-color: #434B5C;\n",
              "      box-shadow: 0px 1px 3px 1px rgba(0, 0, 0, 0.15);\n",
              "      filter: drop-shadow(0px 1px 2px rgba(0, 0, 0, 0.3));\n",
              "      fill: #FFFFFF;\n",
              "    }\n",
              "  </style>\n",
              "\n",
              "    <script>\n",
              "      const buttonEl =\n",
              "        document.querySelector('#df-e8e7d9f4-a9af-4177-a73e-6f20e35e52d8 button.colab-df-convert');\n",
              "      buttonEl.style.display =\n",
              "        google.colab.kernel.accessAllowed ? 'block' : 'none';\n",
              "\n",
              "      async function convertToInteractive(key) {\n",
              "        const element = document.querySelector('#df-e8e7d9f4-a9af-4177-a73e-6f20e35e52d8');\n",
              "        const dataTable =\n",
              "          await google.colab.kernel.invokeFunction('convertToInteractive',\n",
              "                                                    [key], {});\n",
              "        if (!dataTable) return;\n",
              "\n",
              "        const docLinkHtml = 'Like what you see? Visit the ' +\n",
              "          '<a target=\"_blank\" href=https://colab.research.google.com/notebooks/data_table.ipynb>data table notebook</a>'\n",
              "          + ' to learn more about interactive tables.';\n",
              "        element.innerHTML = '';\n",
              "        dataTable['output_type'] = 'display_data';\n",
              "        await google.colab.output.renderOutput(dataTable, element);\n",
              "        const docLink = document.createElement('div');\n",
              "        docLink.innerHTML = docLinkHtml;\n",
              "        element.appendChild(docLink);\n",
              "      }\n",
              "    </script>\n",
              "  </div>\n",
              "\n",
              "\n",
              "<div id=\"df-f7409788-9448-4d7b-86ba-283345d5200a\">\n",
              "  <button class=\"colab-df-quickchart\" onclick=\"quickchart('df-f7409788-9448-4d7b-86ba-283345d5200a')\"\n",
              "            title=\"Suggest charts\"\n",
              "            style=\"display:none;\">\n",
              "\n",
              "<svg xmlns=\"http://www.w3.org/2000/svg\" height=\"24px\"viewBox=\"0 0 24 24\"\n",
              "     width=\"24px\">\n",
              "    <g>\n",
              "        <path d=\"M19 3H5c-1.1 0-2 .9-2 2v14c0 1.1.9 2 2 2h14c1.1 0 2-.9 2-2V5c0-1.1-.9-2-2-2zM9 17H7v-7h2v7zm4 0h-2V7h2v10zm4 0h-2v-4h2v4z\"/>\n",
              "    </g>\n",
              "</svg>\n",
              "  </button>\n",
              "\n",
              "<style>\n",
              "  .colab-df-quickchart {\n",
              "      --bg-color: #E8F0FE;\n",
              "      --fill-color: #1967D2;\n",
              "      --hover-bg-color: #E2EBFA;\n",
              "      --hover-fill-color: #174EA6;\n",
              "      --disabled-fill-color: #AAA;\n",
              "      --disabled-bg-color: #DDD;\n",
              "  }\n",
              "\n",
              "  [theme=dark] .colab-df-quickchart {\n",
              "      --bg-color: #3B4455;\n",
              "      --fill-color: #D2E3FC;\n",
              "      --hover-bg-color: #434B5C;\n",
              "      --hover-fill-color: #FFFFFF;\n",
              "      --disabled-bg-color: #3B4455;\n",
              "      --disabled-fill-color: #666;\n",
              "  }\n",
              "\n",
              "  .colab-df-quickchart {\n",
              "    background-color: var(--bg-color);\n",
              "    border: none;\n",
              "    border-radius: 50%;\n",
              "    cursor: pointer;\n",
              "    display: none;\n",
              "    fill: var(--fill-color);\n",
              "    height: 32px;\n",
              "    padding: 0;\n",
              "    width: 32px;\n",
              "  }\n",
              "\n",
              "  .colab-df-quickchart:hover {\n",
              "    background-color: var(--hover-bg-color);\n",
              "    box-shadow: 0 1px 2px rgba(60, 64, 67, 0.3), 0 1px 3px 1px rgba(60, 64, 67, 0.15);\n",
              "    fill: var(--button-hover-fill-color);\n",
              "  }\n",
              "\n",
              "  .colab-df-quickchart-complete:disabled,\n",
              "  .colab-df-quickchart-complete:disabled:hover {\n",
              "    background-color: var(--disabled-bg-color);\n",
              "    fill: var(--disabled-fill-color);\n",
              "    box-shadow: none;\n",
              "  }\n",
              "\n",
              "  .colab-df-spinner {\n",
              "    border: 2px solid var(--fill-color);\n",
              "    border-color: transparent;\n",
              "    border-bottom-color: var(--fill-color);\n",
              "    animation:\n",
              "      spin 1s steps(1) infinite;\n",
              "  }\n",
              "\n",
              "  @keyframes spin {\n",
              "    0% {\n",
              "      border-color: transparent;\n",
              "      border-bottom-color: var(--fill-color);\n",
              "      border-left-color: var(--fill-color);\n",
              "    }\n",
              "    20% {\n",
              "      border-color: transparent;\n",
              "      border-left-color: var(--fill-color);\n",
              "      border-top-color: var(--fill-color);\n",
              "    }\n",
              "    30% {\n",
              "      border-color: transparent;\n",
              "      border-left-color: var(--fill-color);\n",
              "      border-top-color: var(--fill-color);\n",
              "      border-right-color: var(--fill-color);\n",
              "    }\n",
              "    40% {\n",
              "      border-color: transparent;\n",
              "      border-right-color: var(--fill-color);\n",
              "      border-top-color: var(--fill-color);\n",
              "    }\n",
              "    60% {\n",
              "      border-color: transparent;\n",
              "      border-right-color: var(--fill-color);\n",
              "    }\n",
              "    80% {\n",
              "      border-color: transparent;\n",
              "      border-right-color: var(--fill-color);\n",
              "      border-bottom-color: var(--fill-color);\n",
              "    }\n",
              "    90% {\n",
              "      border-color: transparent;\n",
              "      border-bottom-color: var(--fill-color);\n",
              "    }\n",
              "  }\n",
              "</style>\n",
              "\n",
              "  <script>\n",
              "    async function quickchart(key) {\n",
              "      const quickchartButtonEl =\n",
              "        document.querySelector('#' + key + ' button');\n",
              "      quickchartButtonEl.disabled = true;  // To prevent multiple clicks.\n",
              "      quickchartButtonEl.classList.add('colab-df-spinner');\n",
              "      try {\n",
              "        const charts = await google.colab.kernel.invokeFunction(\n",
              "            'suggestCharts', [key], {});\n",
              "      } catch (error) {\n",
              "        console.error('Error during call to suggestCharts:', error);\n",
              "      }\n",
              "      quickchartButtonEl.classList.remove('colab-df-spinner');\n",
              "      quickchartButtonEl.classList.add('colab-df-quickchart-complete');\n",
              "    }\n",
              "    (() => {\n",
              "      let quickchartButtonEl =\n",
              "        document.querySelector('#df-f7409788-9448-4d7b-86ba-283345d5200a button');\n",
              "      quickchartButtonEl.style.display =\n",
              "        google.colab.kernel.accessAllowed ? 'block' : 'none';\n",
              "    })();\n",
              "  </script>\n",
              "</div>\n",
              "\n",
              "    </div>\n",
              "  </div>\n"
            ],
            "text/plain": [
              "    step      type     amount     nameOrig  oldbalanceOrg  newbalanceOrig  \\\n",
              "0      1   PAYMENT    9839.64  C1231006815      170136.00       160296.36   \n",
              "1      1   PAYMENT    1864.28  C1666544295       21249.00        19384.72   \n",
              "2      1  TRANSFER     181.00  C1305486145         181.00            0.00   \n",
              "3      1  CASH_OUT     181.00   C840083671         181.00            0.00   \n",
              "4      1   PAYMENT   11668.14  C2048537720       41554.00        29885.86   \n",
              "5      1   PAYMENT    7817.71    C90045638       53860.00        46042.29   \n",
              "6      1   PAYMENT    7107.77   C154988899      183195.00       176087.23   \n",
              "7      1   PAYMENT    7861.64  C1912850431      176087.23       168225.59   \n",
              "8      1   PAYMENT    4024.36  C1265012928        2671.00            0.00   \n",
              "9      1     DEBIT    5337.77   C712410124       41720.00        36382.23   \n",
              "10     1     DEBIT    9644.94  C1900366749        4465.00            0.00   \n",
              "11     1   PAYMENT    3099.97   C249177573       20771.00        17671.03   \n",
              "12     1   PAYMENT    2560.74  C1648232591        5070.00         2509.26   \n",
              "13     1   PAYMENT   11633.76  C1716932897       10127.00            0.00   \n",
              "14     1   PAYMENT    4098.78  C1026483832      503264.00       499165.22   \n",
              "15     1  CASH_OUT  229133.94   C905080434       15325.00            0.00   \n",
              "16     1   PAYMENT    1563.82   C761750706         450.00            0.00   \n",
              "17     1   PAYMENT    1157.86  C1237762639       21156.00        19998.14   \n",
              "18     1   PAYMENT     671.64  C2033524545       15123.00        14451.36   \n",
              "19     1  TRANSFER  215310.30  C1670993182         705.00            0.00   \n",
              "\n",
              "       nameDest  oldbalanceDest  newbalanceDest  isFraud  isFlaggedFraud  \n",
              "0   M1979787155             0.0            0.00        0               0  \n",
              "1   M2044282225             0.0            0.00        0               0  \n",
              "2    C553264065             0.0            0.00        1               0  \n",
              "3     C38997010         21182.0            0.00        1               0  \n",
              "4   M1230701703             0.0            0.00        0               0  \n",
              "5    M573487274             0.0            0.00        0               0  \n",
              "6    M408069119             0.0            0.00        0               0  \n",
              "7    M633326333             0.0            0.00        0               0  \n",
              "8   M1176932104             0.0            0.00        0               0  \n",
              "9    C195600860         41898.0        40348.79        0               0  \n",
              "10   C997608398         10845.0       157982.12        0               0  \n",
              "11  M2096539129             0.0            0.00        0               0  \n",
              "12   M972865270             0.0            0.00        0               0  \n",
              "13   M801569151             0.0            0.00        0               0  \n",
              "14  M1635378213             0.0            0.00        0               0  \n",
              "15   C476402209          5083.0        51513.44        0               0  \n",
              "16  M1731217984             0.0            0.00        0               0  \n",
              "17  M1877062907             0.0            0.00        0               0  \n",
              "18   M473053293             0.0            0.00        0               0  \n",
              "19  C1100439041         22425.0            0.00        0               0  "
            ]
          },
          "execution_count": 40,
          "metadata": {},
          "output_type": "execute_result"
        }
      ],
      "source": [
        "df.head(20)"
      ]
    },
    {
      "cell_type": "code",
      "execution_count": null,
      "metadata": {
        "colab": {
          "background_save": true,
          "base_uri": "https://localhost:8080/"
        },
        "id": "Kwheeqgi83VI",
        "outputId": "7085d655-4d09-40bd-aea7-b77f60183215"
      },
      "outputs": [
        {
          "name": "stdout",
          "output_type": "stream",
          "text": [
            "<class 'pandas.core.frame.DataFrame'>\n",
            "RangeIndex: 6362620 entries, 0 to 6362619\n",
            "Data columns (total 11 columns):\n",
            " #   Column          Dtype  \n",
            "---  ------          -----  \n",
            " 0   step            int64  \n",
            " 1   type            object \n",
            " 2   amount          float64\n",
            " 3   nameOrig        object \n",
            " 4   oldbalanceOrg   float64\n",
            " 5   newbalanceOrig  float64\n",
            " 6   nameDest        object \n",
            " 7   oldbalanceDest  float64\n",
            " 8   newbalanceDest  float64\n",
            " 9   isFraud         int64  \n",
            " 10  isFlaggedFraud  int64  \n",
            "dtypes: float64(5), int64(3), object(3)\n",
            "memory usage: 534.0+ MB\n"
          ]
        }
      ],
      "source": [
        "df.info()"
      ]
    },
    {
      "cell_type": "code",
      "execution_count": null,
      "metadata": {
        "colab": {
          "background_save": true,
          "base_uri": "https://localhost:8080/"
        },
        "id": "tMbwarN69eTI",
        "outputId": "3e4ed611-079a-40f2-9693-1b7f7d94f47f"
      },
      "outputs": [
        {
          "name": "stdout",
          "output_type": "stream",
          "text": [
            "               step        amount  oldbalanceOrg  newbalanceOrig  \\\n",
            "count  6.362620e+06  6.362620e+06   6.362620e+06    6.362620e+06   \n",
            "mean   2.433972e+02  1.798619e+05   8.338831e+05    8.551137e+05   \n",
            "std    1.423320e+02  6.038582e+05   2.888243e+06    2.924049e+06   \n",
            "min    1.000000e+00  0.000000e+00   0.000000e+00    0.000000e+00   \n",
            "25%    1.560000e+02  1.338957e+04   0.000000e+00    0.000000e+00   \n",
            "50%    2.390000e+02  7.487194e+04   1.420800e+04    0.000000e+00   \n",
            "75%    3.350000e+02  2.087215e+05   1.073152e+05    1.442584e+05   \n",
            "max    7.430000e+02  9.244552e+07   5.958504e+07    4.958504e+07   \n",
            "\n",
            "       oldbalanceDest  newbalanceDest       isFraud  isFlaggedFraud  \n",
            "count    6.362620e+06    6.362620e+06  6.362620e+06    6.362620e+06  \n",
            "mean     1.100702e+06    1.224996e+06  1.290820e-03    2.514687e-06  \n",
            "std      3.399180e+06    3.674129e+06  3.590480e-02    1.585775e-03  \n",
            "min      0.000000e+00    0.000000e+00  0.000000e+00    0.000000e+00  \n",
            "25%      0.000000e+00    0.000000e+00  0.000000e+00    0.000000e+00  \n",
            "50%      1.327057e+05    2.146614e+05  0.000000e+00    0.000000e+00  \n",
            "75%      9.430367e+05    1.111909e+06  0.000000e+00    0.000000e+00  \n",
            "max      3.560159e+08    3.561793e+08  1.000000e+00    1.000000e+00  \n"
          ]
        }
      ],
      "source": [
        "print(df.describe())"
      ]
    },
    {
      "cell_type": "markdown",
      "metadata": {
        "id": "f80tJ340-Mc2"
      },
      "source": [
        "Checking for any null values and removing it ."
      ]
    },
    {
      "cell_type": "code",
      "execution_count": null,
      "metadata": {
        "colab": {
          "background_save": true,
          "base_uri": "https://localhost:8080/"
        },
        "id": "wkjHDAl79w7D",
        "outputId": "bf6eeb8c-081f-4edb-b54a-151808ddc5a2"
      },
      "outputs": [
        {
          "name": "stdout",
          "output_type": "stream",
          "text": [
            "step              0\n",
            "type              0\n",
            "amount            0\n",
            "nameOrig          0\n",
            "oldbalanceOrg     0\n",
            "newbalanceOrig    0\n",
            "nameDest          0\n",
            "oldbalanceDest    0\n",
            "newbalanceDest    0\n",
            "isFraud           0\n",
            "isFlaggedFraud    0\n",
            "dtype: int64\n"
          ]
        }
      ],
      "source": [
        "null = df.isnull().sum()\n",
        "print(null)"
      ]
    },
    {
      "cell_type": "code",
      "execution_count": null,
      "metadata": {
        "colab": {
          "background_save": true,
          "base_uri": "https://localhost:8080/"
        },
        "id": "rjQD_Wyv_rDF",
        "outputId": "843c0edd-1f65-481a-cdba-665bf2230a89"
      },
      "outputs": [
        {
          "name": "stdout",
          "output_type": "stream",
          "text": [
            "          step   type  amount  nameOrig  oldbalanceOrg  newbalanceOrig  \\\n",
            "0        False  False   False     False          False           False   \n",
            "1        False  False   False     False          False           False   \n",
            "2        False  False   False     False          False           False   \n",
            "3        False  False   False     False          False           False   \n",
            "4        False  False   False     False          False           False   \n",
            "...        ...    ...     ...       ...            ...             ...   \n",
            "6362615  False  False   False     False          False           False   \n",
            "6362616  False  False   False     False          False           False   \n",
            "6362617  False  False   False     False          False           False   \n",
            "6362618  False  False   False     False          False           False   \n",
            "6362619  False  False   False     False          False           False   \n",
            "\n",
            "         nameDest  oldbalanceDest  newbalanceDest  isFraud  isFlaggedFraud  \n",
            "0           False           False           False    False           False  \n",
            "1           False           False           False    False           False  \n",
            "2           False           False           False    False           False  \n",
            "3           False           False           False    False           False  \n",
            "4           False           False           False    False           False  \n",
            "...           ...             ...             ...      ...             ...  \n",
            "6362615     False           False           False    False           False  \n",
            "6362616     False           False           False    False           False  \n",
            "6362617     False           False           False    False           False  \n",
            "6362618     False           False           False    False           False  \n",
            "6362619     False           False           False    False           False  \n",
            "\n",
            "[6362620 rows x 11 columns]\n"
          ]
        }
      ],
      "source": [
        "print(df.isna()\n",
        ")"
      ]
    },
    {
      "cell_type": "code",
      "execution_count": null,
      "metadata": {
        "colab": {
          "base_uri": "https://localhost:8080/"
        },
        "id": "rJio4ZTiK9cn",
        "outputId": "e60fe210-18ef-4cad-fcdc-074ca25c3ed1"
      },
      "outputs": [
        {
          "name": "stdout",
          "output_type": "stream",
          "text": [
            "(6362620, 11)\n"
          ]
        }
      ],
      "source": [
        "df.dropna(inplace=True)\n",
        "print(df.shape)\n"
      ]
    },
    {
      "cell_type": "code",
      "execution_count": null,
      "metadata": {
        "id": "0qsmtjqH_8yg"
      },
      "outputs": [],
      "source": [
        "trn = df['type'].value_counts()\n",
        "typ = trn.index\n",
        "num = trn.values"
      ]
    },
    {
      "cell_type": "markdown",
      "metadata": {
        "id": "IxEmdHoX-WtM"
      },
      "source": [
        "Graphical Representation"
      ]
    },
    {
      "cell_type": "code",
      "execution_count": null,
      "metadata": {
        "colab": {
          "base_uri": "https://localhost:8080/",
          "height": 428
        },
        "id": "X1j4_BsgMs4x",
        "outputId": "8cad7282-53dd-4001-8fc1-58ace35fb08f"
      },
      "outputs": [
        {
          "data": {
            "image/png": "[encoded data removed]",
            "text/plain": [
              "<Figure size 640x480 with 1 Axes>"
            ]
          },
          "metadata": {},
          "output_type": "display_data"
        }
      ],
      "source": [
        "ex = (0.01,0.01,0.01,0.01,0.01)\n",
        "plt.pie(num, labels=typ, autopct='%1.1f%%', explode= ex)\n",
        "plt.title('Transaction Type')\n",
        "plt.show()"
      ]
    },
    {
      "cell_type": "code",
      "execution_count": null,
      "metadata": {
        "colab": {
          "base_uri": "https://localhost:8080/"
        },
        "id": "SkJe_MOHKH1p",
        "outputId": "887b42c8-1b78-442f-b7b2-a85a70d5f1b6"
      },
      "outputs": [
        {
          "name": "stdout",
          "output_type": "stream",
          "text": [
            "isFraud\n",
            "0    6354407\n",
            "1       8213\n",
            "Name: count, dtype: int64\n"
          ]
        }
      ],
      "source": [
        "fraud_cnt = df['isFraud'].value_counts()\n",
        "print(fraud_cnt)\n",
        "#it seems that only 8213 out of 6362620 transaction is fraud"
      ]
    },
    {
      "cell_type": "code",
      "execution_count": null,
      "metadata": {
        "id": "Kplqy1fzODuH"
      },
      "outputs": [],
      "source": [
        "fraud_typ = fraud_cnt.index\n",
        "fraud_num = fraud_cnt.values"
      ]
    },
    {
      "cell_type": "code",
      "execution_count": null,
      "metadata": {
        "colab": {
          "base_uri": "https://localhost:8080/",
          "height": 428
        },
        "id": "Bz9tf9YUOdyC",
        "outputId": "6e71ee4d-a4e1-4f14-aded-ac18d618915c"
      },
      "outputs": [
        {
          "data": {
            "image/png": "[encoded data removed]",
            "text/plain": [
              "<Figure size 640x480 with 1 Axes>"
            ]
          },
          "metadata": {},
          "output_type": "display_data"
        }
      ],
      "source": [
        "exp = (0,0.5)\n",
        "plt.pie(fraud_num,labels=fraud_typ,autopct='%1.1f%%',explode=exp)\n",
        "plt.title('fraud')\n",
        "plt.show()"
      ]
    },
    {
      "cell_type": "code",
      "execution_count": null,
      "metadata": {
        "colab": {
          "base_uri": "https://localhost:8080/",
          "height": 178
        },
        "id": "2q5f3EBJKSa3",
        "outputId": "22dd8ea6-1b75-43a3-9245-362acedf2aaf"
      },
      "outputs": [
        {
          "data": {
            "text/html": [
              "<div>\n",
              "<style scoped>\n",
              "    .dataframe tbody tr th:only-of-type {\n",
              "        vertical-align: middle;\n",
              "    }\n",
              "\n",
              "    .dataframe tbody tr th {\n",
              "        vertical-align: top;\n",
              "    }\n",
              "\n",
              "    .dataframe thead th {\n",
              "        text-align: right;\n",
              "    }\n",
              "</style>\n",
              "<table border=\"1\" class=\"dataframe\">\n",
              "  <thead>\n",
              "    <tr style=\"text-align: right;\">\n",
              "      <th></th>\n",
              "      <th>count</th>\n",
              "    </tr>\n",
              "    <tr>\n",
              "      <th>isFlaggedFraud</th>\n",
              "      <th></th>\n",
              "    </tr>\n",
              "  </thead>\n",
              "  <tbody>\n",
              "    <tr>\n",
              "      <th>0</th>\n",
              "      <td>6362604</td>\n",
              "    </tr>\n",
              "    <tr>\n",
              "      <th>1</th>\n",
              "      <td>16</td>\n",
              "    </tr>\n",
              "  </tbody>\n",
              "</table>\n",
              "</div><br><label><b>dtype:</b> int64</label>"
            ],
            "text/plain": [
              "isFlaggedFraud\n",
              "0    6362604\n",
              "1         16\n",
              "Name: count, dtype: int64"
            ]
          },
          "execution_count": 17,
          "metadata": {},
          "output_type": "execute_result"
        }
      ],
      "source": [
        "df['isFlaggedFraud'].value_counts()"
      ]
    },
    {
      "cell_type": "markdown",
      "metadata": {
        "id": "0-pBEwAM-s3c"
      },
      "source": [
        "Encoding the type of transaction into numerical"
      ]
    },
    {
      "cell_type": "code",
      "execution_count": null,
      "metadata": {
        "colab": {
          "base_uri": "https://localhost:8080/"
        },
        "id": "xOqYjXOcRayi",
        "outputId": "a1e1497d-2e71-4915-e1ab-f6860bc4201c"
      },
      "outputs": [
        {
          "name": "stdout",
          "output_type": "stream",
          "text": [
            "    step  type     amount     nameOrig  oldbalanceOrg  newbalanceOrig  \\\n",
            "0      1     2    9839.64  C1231006815      170136.00       160296.36   \n",
            "1      1     2    1864.28  C1666544295       21249.00        19384.72   \n",
            "2      1     4     181.00  C1305486145         181.00            0.00   \n",
            "3      1     1     181.00   C840083671         181.00            0.00   \n",
            "4      1     2   11668.14  C2048537720       41554.00        29885.86   \n",
            "5      1     2    7817.71    C90045638       53860.00        46042.29   \n",
            "6      1     2    7107.77   C154988899      183195.00       176087.23   \n",
            "7      1     2    7861.64  C1912850431      176087.23       168225.59   \n",
            "8      1     2    4024.36  C1265012928        2671.00            0.00   \n",
            "9      1     5    5337.77   C712410124       41720.00        36382.23   \n",
            "10     1     5    9644.94  C1900366749        4465.00            0.00   \n",
            "11     1     2    3099.97   C249177573       20771.00        17671.03   \n",
            "12     1     2    2560.74  C1648232591        5070.00         2509.26   \n",
            "13     1     2   11633.76  C1716932897       10127.00            0.00   \n",
            "14     1     2    4098.78  C1026483832      503264.00       499165.22   \n",
            "15     1     1  229133.94   C905080434       15325.00            0.00   \n",
            "16     1     2    1563.82   C761750706         450.00            0.00   \n",
            "17     1     2    1157.86  C1237762639       21156.00        19998.14   \n",
            "18     1     2     671.64  C2033524545       15123.00        14451.36   \n",
            "19     1     4  215310.30  C1670993182         705.00            0.00   \n",
            "\n",
            "       nameDest  oldbalanceDest  newbalanceDest  isFraud  isFlaggedFraud  \n",
            "0   M1979787155             0.0            0.00  nofraud               0  \n",
            "1   M2044282225             0.0            0.00  nofraud               0  \n",
            "2    C553264065             0.0            0.00    fraud               0  \n",
            "3     C38997010         21182.0            0.00    fraud               0  \n",
            "4   M1230701703             0.0            0.00  nofraud               0  \n",
            "5    M573487274             0.0            0.00  nofraud               0  \n",
            "6    M408069119             0.0            0.00  nofraud               0  \n",
            "7    M633326333             0.0            0.00  nofraud               0  \n",
            "8   M1176932104             0.0            0.00  nofraud               0  \n",
            "9    C195600860         41898.0        40348.79  nofraud               0  \n",
            "10   C997608398         10845.0       157982.12  nofraud               0  \n",
            "11  M2096539129             0.0            0.00  nofraud               0  \n",
            "12   M972865270             0.0            0.00  nofraud               0  \n",
            "13   M801569151             0.0            0.00  nofraud               0  \n",
            "14  M1635378213             0.0            0.00  nofraud               0  \n",
            "15   C476402209          5083.0        51513.44  nofraud               0  \n",
            "16  M1731217984             0.0            0.00  nofraud               0  \n",
            "17  M1877062907             0.0            0.00  nofraud               0  \n",
            "18   M473053293             0.0            0.00  nofraud               0  \n",
            "19  C1100439041         22425.0            0.00  nofraud               0  \n"
          ]
        }
      ],
      "source": [
        "df['type'] = df['type'].map({\"CASH_OUT\":1,\"PAYMENT\":2,\"CASH_IN\":3,\"TRANSFER\":4,\"DEBIT\":5})\n",
        "df['isFraud'] =df['isFraud'].map({0:\"nofraud\", 1:\"fraud\"})\n",
        "print(df.head(20))"
      ]
    },
    {
      "cell_type": "code",
      "execution_count": null,
      "metadata": {
        "id": "CUKKgxReVtUr"
      },
      "outputs": [],
      "source": [
        "df_new = df.drop(['nameOrig','nameDest','isFlaggedFraud'],axis=1)\n",
        "df_new['isFraud'] = df_new['isFraud'].map({\"nofraud\":0,\"fraud\":1})\n",
        "df_newx = df.drop(['nameOrig','nameDest','isFlaggedFraud','isFraud'],axis=1)"
      ]
    },
    {
      "cell_type": "markdown",
      "metadata": {
        "id": "kQ8orkW8-37t"
      },
      "source": [
        "Plotting correlation matrix to check multicollineearity"
      ]
    },
    {
      "cell_type": "code",
      "execution_count": null,
      "metadata": {
        "colab": {
          "base_uri": "https://localhost:8080/",
          "height": 646
        },
        "id": "sjbFAcaqUAo3",
        "outputId": "6c8c9fb2-9659-4a13-a0d1-f4295977dc4c"
      },
      "outputs": [
        {
          "data": {
            "text/plain": [
              "<Axes: >"
            ]
          },
          "execution_count": 20,
          "metadata": {},
          "output_type": "execute_result"
        },
        {
          "data": {
            "image/png": "[encoded data removed]",
            "text/plain": [
              "<Figure size 1200x600 with 2 Axes>"
            ]
          },
          "metadata": {},
          "output_type": "display_data"
        }
      ],
      "source": [
        "plt.figure(figsize=(12, 6))\n",
        "sns.heatmap(df_new.corr(),\n",
        "\t\t\tcmap='BrBG',\n",
        "\t\t\tfmt='.2f',\n",
        "\t\t\tlinewidths=2,\n",
        "\t\t\tannot=True)\n"
      ]
    },
    {
      "cell_type": "code",
      "execution_count": null,
      "metadata": {
        "id": "bji7UEpUX2Cw"
      },
      "outputs": [],
      "source": [
        "fraud = df_new[df_new['isFraud'] == 1]\n",
        "valid = df_new[df_new['isFraud'] == 0]"
      ]
    },
    {
      "cell_type": "markdown",
      "metadata": {
        "id": "5ezzQKmTrQg-"
      },
      "source": [
        "VIF\n"
      ]
    },
    {
      "cell_type": "code",
      "execution_count": null,
      "metadata": {
        "colab": {
          "base_uri": "https://localhost:8080/",
          "height": 268
        },
        "id": "hd_0uO2frPSj",
        "outputId": "dd2ad889-7d8a-478d-c67b-ddb282a783a2"
      },
      "outputs": [
        {
          "data": {
            "application/vnd.google.colaboratory.intrinsic+json": {
              "summary": "{\n  \"name\": \"calc_vif(df_newx)\",\n  \"rows\": 7,\n  \"fields\": [\n    {\n      \"column\": \"variables\",\n      \"properties\": {\n        \"dtype\": \"string\",\n        \"num_unique_values\": 7,\n        \"samples\": [\n          \"step\",\n          \"type\",\n          \"oldbalanceDest\"\n        ],\n        \"semantic_type\": \"\",\n        \"description\": \"\"\n      }\n    },\n    {\n      \"column\": \"VIF\",\n      \"properties\": {\n        \"dtype\": \"number\",\n        \"std\": 222.8619918130962,\n        \"min\": 2.6394117362994614,\n        \"max\": 487.01533827337886,\n        \"num_unique_values\": 7,\n        \"samples\": [\n          2.6394117362994614,\n          3.1533390905870617,\n          72.49948133869827\n        ],\n        \"semantic_type\": \"\",\n        \"description\": \"\"\n      }\n    }\n  ]\n}",
              "type": "dataframe"
            },
            "text/html": [
              "\n",
              "  <div id=\"df-858e817c-3748-426e-a98b-cdcf0c1a62f9\" class=\"colab-df-container\">\n",
              "    <div>\n",
              "<style scoped>\n",
              "    .dataframe tbody tr th:only-of-type {\n",
              "        vertical-align: middle;\n",
              "    }\n",
              "\n",
              "    .dataframe tbody tr th {\n",
              "        vertical-align: top;\n",
              "    }\n",
              "\n",
              "    .dataframe thead th {\n",
              "        text-align: right;\n",
              "    }\n",
              "</style>\n",
              "<table border=\"1\" class=\"dataframe\">\n",
              "  <thead>\n",
              "    <tr style=\"text-align: right;\">\n",
              "      <th></th>\n",
              "      <th>variables</th>\n",
              "      <th>VIF</th>\n",
              "    </tr>\n",
              "  </thead>\n",
              "  <tbody>\n",
              "    <tr>\n",
              "      <th>0</th>\n",
              "      <td>step</td>\n",
              "      <td>2.639412</td>\n",
              "    </tr>\n",
              "    <tr>\n",
              "      <th>1</th>\n",
              "      <td>type</td>\n",
              "      <td>3.153339</td>\n",
              "    </tr>\n",
              "    <tr>\n",
              "      <th>2</th>\n",
              "      <td>amount</td>\n",
              "      <td>4.193895</td>\n",
              "    </tr>\n",
              "    <tr>\n",
              "      <th>3</th>\n",
              "      <td>oldbalanceOrg</td>\n",
              "      <td>482.539694</td>\n",
              "    </tr>\n",
              "    <tr>\n",
              "      <th>4</th>\n",
              "      <td>newbalanceOrig</td>\n",
              "      <td>487.015338</td>\n",
              "    </tr>\n",
              "    <tr>\n",
              "      <th>5</th>\n",
              "      <td>oldbalanceDest</td>\n",
              "      <td>72.499481</td>\n",
              "    </tr>\n",
              "    <tr>\n",
              "      <th>6</th>\n",
              "      <td>newbalanceDest</td>\n",
              "      <td>84.002774</td>\n",
              "    </tr>\n",
              "  </tbody>\n",
              "</table>\n",
              "</div>\n",
              "    <div class=\"colab-df-buttons\">\n",
              "\n",
              "  <div class=\"colab-df-container\">\n",
              "    <button class=\"colab-df-convert\" onclick=\"convertToInteractive('df-858e817c-3748-426e-a98b-cdcf0c1a62f9')\"\n",
              "            title=\"Convert this dataframe to an interactive table.\"\n",
              "            style=\"display:none;\">\n",
              "\n",
              "  <svg xmlns=\"http://www.w3.org/2000/svg\" height=\"24px\" viewBox=\"0 -960 960 960\">\n",
              "    <path d=\"M120-120v-720h720v720H120Zm60-500h600v-160H180v160Zm220 220h160v-160H400v160Zm0 220h160v-160H400v160ZM180-400h160v-160H180v160Zm440 0h160v-160H620v160ZM180-180h160v-160H180v160Zm440 0h160v-160H620v160Z\"/>\n",
              "  </svg>\n",
              "    </button>\n",
              "\n",
              "  <style>\n",
              "    .colab-df-container {\n",
              "      display:flex;\n",
              "      gap: 12px;\n",
              "    }\n",
              "\n",
              "    .colab-df-convert {\n",
              "      background-color: #E8F0FE;\n",
              "      border: none;\n",
              "      border-radius: 50%;\n",
              "      cursor: pointer;\n",
              "      display: none;\n",
              "      fill: #1967D2;\n",
              "      height: 32px;\n",
              "      padding: 0 0 0 0;\n",
              "      width: 32px;\n",
              "    }\n",
              "\n",
              "    .colab-df-convert:hover {\n",
              "      background-color: #E2EBFA;\n",
              "      box-shadow: 0px 1px 2px rgba(60, 64, 67, 0.3), 0px 1px 3px 1px rgba(60, 64, 67, 0.15);\n",
              "      fill: #174EA6;\n",
              "    }\n",
              "\n",
              "    .colab-df-buttons div {\n",
              "      margin-bottom: 4px;\n",
              "    }\n",
              "\n",
              "    [theme=dark] .colab-df-convert {\n",
              "      background-color: #3B4455;\n",
              "      fill: #D2E3FC;\n",
              "    }\n",
              "\n",
              "    [theme=dark] .colab-df-convert:hover {\n",
              "      background-color: #434B5C;\n",
              "      box-shadow: 0px 1px 3px 1px rgba(0, 0, 0, 0.15);\n",
              "      filter: drop-shadow(0px 1px 2px rgba(0, 0, 0, 0.3));\n",
              "      fill: #FFFFFF;\n",
              "    }\n",
              "  </style>\n",
              "\n",
              "    <script>\n",
              "      const buttonEl =\n",
              "        document.querySelector('#df-858e817c-3748-426e-a98b-cdcf0c1a62f9 button.colab-df-convert');\n",
              "      buttonEl.style.display =\n",
              "        google.colab.kernel.accessAllowed ? 'block' : 'none';\n",
              "\n",
              "      async function convertToInteractive(key) {\n",
              "        const element = document.querySelector('#df-858e817c-3748-426e-a98b-cdcf0c1a62f9');\n",
              "        const dataTable =\n",
              "          await google.colab.kernel.invokeFunction('convertToInteractive',\n",
              "                                                    [key], {});\n",
              "        if (!dataTable) return;\n",
              "\n",
              "        const docLinkHtml = 'Like what you see? Visit the ' +\n",
              "          '<a target=\"_blank\" href=https://colab.research.google.com/notebooks/data_table.ipynb>data table notebook</a>'\n",
              "          + ' to learn more about interactive tables.';\n",
              "        element.innerHTML = '';\n",
              "        dataTable['output_type'] = 'display_data';\n",
              "        await google.colab.output.renderOutput(dataTable, element);\n",
              "        const docLink = document.createElement('div');\n",
              "        docLink.innerHTML = docLinkHtml;\n",
              "        element.appendChild(docLink);\n",
              "      }\n",
              "    </script>\n",
              "  </div>\n",
              "\n",
              "\n",
              "<div id=\"df-22dd99bb-ebf0-4152-8e16-822f8adbf41d\">\n",
              "  <button class=\"colab-df-quickchart\" onclick=\"quickchart('df-22dd99bb-ebf0-4152-8e16-822f8adbf41d')\"\n",
              "            title=\"Suggest charts\"\n",
              "            style=\"display:none;\">\n",
              "\n",
              "<svg xmlns=\"http://www.w3.org/2000/svg\" height=\"24px\"viewBox=\"0 0 24 24\"\n",
              "     width=\"24px\">\n",
              "    <g>\n",
              "        <path d=\"M19 3H5c-1.1 0-2 .9-2 2v14c0 1.1.9 2 2 2h14c1.1 0 2-.9 2-2V5c0-1.1-.9-2-2-2zM9 17H7v-7h2v7zm4 0h-2V7h2v10zm4 0h-2v-4h2v4z\"/>\n",
              "    </g>\n",
              "</svg>\n",
              "  </button>\n",
              "\n",
              "<style>\n",
              "  .colab-df-quickchart {\n",
              "      --bg-color: #E8F0FE;\n",
              "      --fill-color: #1967D2;\n",
              "      --hover-bg-color: #E2EBFA;\n",
              "      --hover-fill-color: #174EA6;\n",
              "      --disabled-fill-color: #AAA;\n",
              "      --disabled-bg-color: #DDD;\n",
              "  }\n",
              "\n",
              "  [theme=dark] .colab-df-quickchart {\n",
              "      --bg-color: #3B4455;\n",
              "      --fill-color: #D2E3FC;\n",
              "      --hover-bg-color: #434B5C;\n",
              "      --hover-fill-color: #FFFFFF;\n",
              "      --disabled-bg-color: #3B4455;\n",
              "      --disabled-fill-color: #666;\n",
              "  }\n",
              "\n",
              "  .colab-df-quickchart {\n",
              "    background-color: var(--bg-color);\n",
              "    border: none;\n",
              "    border-radius: 50%;\n",
              "    cursor: pointer;\n",
              "    display: none;\n",
              "    fill: var(--fill-color);\n",
              "    height: 32px;\n",
              "    padding: 0;\n",
              "    width: 32px;\n",
              "  }\n",
              "\n",
              "  .colab-df-quickchart:hover {\n",
              "    background-color: var(--hover-bg-color);\n",
              "    box-shadow: 0 1px 2px rgba(60, 64, 67, 0.3), 0 1px 3px 1px rgba(60, 64, 67, 0.15);\n",
              "    fill: var(--button-hover-fill-color);\n",
              "  }\n",
              "\n",
              "  .colab-df-quickchart-complete:disabled,\n",
              "  .colab-df-quickchart-complete:disabled:hover {\n",
              "    background-color: var(--disabled-bg-color);\n",
              "    fill: var(--disabled-fill-color);\n",
              "    box-shadow: none;\n",
              "  }\n",
              "\n",
              "  .colab-df-spinner {\n",
              "    border: 2px solid var(--fill-color);\n",
              "    border-color: transparent;\n",
              "    border-bottom-color: var(--fill-color);\n",
              "    animation:\n",
              "      spin 1s steps(1) infinite;\n",
              "  }\n",
              "\n",
              "  @keyframes spin {\n",
              "    0% {\n",
              "      border-color: transparent;\n",
              "      border-bottom-color: var(--fill-color);\n",
              "      border-left-color: var(--fill-color);\n",
              "    }\n",
              "    20% {\n",
              "      border-color: transparent;\n",
              "      border-left-color: var(--fill-color);\n",
              "      border-top-color: var(--fill-color);\n",
              "    }\n",
              "    30% {\n",
              "      border-color: transparent;\n",
              "      border-left-color: var(--fill-color);\n",
              "      border-top-color: var(--fill-color);\n",
              "      border-right-color: var(--fill-color);\n",
              "    }\n",
              "    40% {\n",
              "      border-color: transparent;\n",
              "      border-right-color: var(--fill-color);\n",
              "      border-top-color: var(--fill-color);\n",
              "    }\n",
              "    60% {\n",
              "      border-color: transparent;\n",
              "      border-right-color: var(--fill-color);\n",
              "    }\n",
              "    80% {\n",
              "      border-color: transparent;\n",
              "      border-right-color: var(--fill-color);\n",
              "      border-bottom-color: var(--fill-color);\n",
              "    }\n",
              "    90% {\n",
              "      border-color: transparent;\n",
              "      border-bottom-color: var(--fill-color);\n",
              "    }\n",
              "  }\n",
              "</style>\n",
              "\n",
              "  <script>\n",
              "    async function quickchart(key) {\n",
              "      const quickchartButtonEl =\n",
              "        document.querySelector('#' + key + ' button');\n",
              "      quickchartButtonEl.disabled = true;  // To prevent multiple clicks.\n",
              "      quickchartButtonEl.classList.add('colab-df-spinner');\n",
              "      try {\n",
              "        const charts = await google.colab.kernel.invokeFunction(\n",
              "            'suggestCharts', [key], {});\n",
              "      } catch (error) {\n",
              "        console.error('Error during call to suggestCharts:', error);\n",
              "      }\n",
              "      quickchartButtonEl.classList.remove('colab-df-spinner');\n",
              "      quickchartButtonEl.classList.add('colab-df-quickchart-complete');\n",
              "    }\n",
              "    (() => {\n",
              "      let quickchartButtonEl =\n",
              "        document.querySelector('#df-22dd99bb-ebf0-4152-8e16-822f8adbf41d button');\n",
              "      quickchartButtonEl.style.display =\n",
              "        google.colab.kernel.accessAllowed ? 'block' : 'none';\n",
              "    })();\n",
              "  </script>\n",
              "</div>\n",
              "\n",
              "    </div>\n",
              "  </div>\n"
            ],
            "text/plain": [
              "        variables         VIF\n",
              "0            step    2.639412\n",
              "1            type    3.153339\n",
              "2          amount    4.193895\n",
              "3   oldbalanceOrg  482.539694\n",
              "4  newbalanceOrig  487.015338\n",
              "5  oldbalanceDest   72.499481\n",
              "6  newbalanceDest   84.002774"
            ]
          },
          "execution_count": 22,
          "metadata": {},
          "output_type": "execute_result"
        }
      ],
      "source": [
        "from statsmodels.stats.outliers_influence import variance_inflation_factor\n",
        "def calc_vif(df_newx):\n",
        "  vif = pd.DataFrame()\n",
        "  vif[\"variables\"] = df_newx.columns\n",
        "  vif[\"VIF\"] = [variance_inflation_factor(df_newx.values, i) for i in range(df_newx.shape[1])]\n",
        "  return(vif)\n",
        "calc_vif(df_newx)"
      ]
    },
    {
      "cell_type": "code",
      "execution_count": null,
      "metadata": {
        "id": "Y01pE2qrtEzQ"
      },
      "outputs": [],
      "source": [
        "df_newx['Amt_orgn'] = df_newx.apply(lambda x : x['oldbalanceOrg']-x['newbalanceOrig'],axis =1)\n",
        "df_newx['Amt_Dest'] = df_newx.apply(lambda x : x['newbalanceDest']-x['oldbalanceDest'],axis =1)\n",
        "df_newx = df_newx.drop(['oldbalanceOrg','newbalanceOrig', 'newbalanceDest','oldbalanceDest'],axis=1)\n"
      ]
    },
    {
      "cell_type": "code",
      "execution_count": null,
      "metadata": {
        "id": "hrMiqnWI1lKM"
      },
      "outputs": [],
      "source": [
        "calc_vif(df_newx)#calculating new vif"
      ]
    },
    {
      "cell_type": "markdown",
      "metadata": {
        "id": "4_f23yCu_TnM"
      },
      "source": [
        "Checking for outliers"
      ]
    },
    {
      "cell_type": "code",
      "execution_count": null,
      "metadata": {
        "id": "4Vk-tznbc6vi"
      },
      "outputs": [],
      "source": [
        "\n",
        "plt.boxplot(df_new['amount'],vert = False)\n",
        "plt.xlabel('amount')\n",
        "plt.ylabel('values')\n",
        "plt.show()"
      ]
    },
    {
      "cell_type": "markdown",
      "metadata": {
        "id": "SwmaCqf1_Zai"
      },
      "source": [
        "IQR"
      ]
    },
    {
      "cell_type": "code",
      "execution_count": null,
      "metadata": {
        "id": "yap9qIyceO6S"
      },
      "outputs": [],
      "source": [
        "# IQR\n",
        "Q1 = df_new['amount'].quantile(0.25)\n",
        "Q3 = df_new['amount'].quantile(0.75)\n",
        "IQR = Q3 - Q1\n",
        "print(IQR)\n"
      ]
    },
    {
      "cell_type": "code",
      "execution_count": null,
      "metadata": {
        "id": "_pScBzannAPJ"
      },
      "outputs": [],
      "source": [
        "lower_bound = Q1 -1.5*IQR\n",
        "upper_bound = Q3 +1.5*IQR\n",
        "outliers = df_new[(df_new['amount'] < lower_bound) | (df_new['amount'] > upper_bound)]\n",
        "outliers.shape"
      ]
    },
    {
      "cell_type": "code",
      "execution_count": null,
      "metadata": {
        "id": "QRC0JNPwoWCl"
      },
      "outputs": [],
      "source": [
        "print(len(outliers[outliers.isFraud == 1]))"
      ]
    },
    {
      "cell_type": "code",
      "execution_count": null,
      "metadata": {
        "id": "up4V2vaf5nyR"
      },
      "outputs": [],
      "source": [
        "df_newx"
      ]
    },
    {
      "cell_type": "markdown",
      "metadata": {
        "id": "VkpCkwLjo27V"
      },
      "source": [
        "Out of 8213 fraud transaction 3854 fraund transaction are outliers , removing these data would be not good for our model and its almost hallf of data would be chunked off which will make the model bias."
      ]
    },
    {
      "cell_type": "markdown",
      "metadata": {
        "id": "97uxm01P_gNC"
      },
      "source": [
        "Scaling the data"
      ]
    },
    {
      "cell_type": "code",
      "execution_count": null,
      "metadata": {
        "id": "Tz4v4XZM3uMt"
      },
      "outputs": [],
      "source": [
        "from sklearn.preprocessing import StandardScaler\n",
        "scaler = StandardScaler()\n",
        "df_newx['amount']=scaler.fit_transform(df_newx['amount'].values.reshape(-1,1))\n",
        "df_newx[\"n_step\"]=scaler.fit_transform(df_newx['step'].values.reshape(-1,1))\n",
        "df_newx[\"n_amount_orgn\"]=scaler.fit_transform(df_newx['Amt_orgn'].values.reshape(-1,1))\n",
        "df_newx[\"n_amount_Dest\"]=scaler.fit_transform(df_newx['Amt_Dest'].values.reshape(-1,1))\n",
        "df_newx = df_newx.drop(['amount','step','Amt_orgn','Amt_Dest'],axis=1)"
      ]
    },
    {
      "cell_type": "code",
      "execution_count": null,
      "metadata": {
        "id": "-TTOQTI_6npm"
      },
      "outputs": [],
      "source": [
        "y = df_new['isFraud']\n",
        "x = df_newx"
      ]
    },
    {
      "cell_type": "markdown",
      "metadata": {
        "id": "Wx6rr_Lc_joP"
      },
      "source": [
        "Test Train Split"
      ]
    },
    {
      "cell_type": "code",
      "execution_count": null,
      "metadata": {
        "id": "vsybpeMG620Z"
      },
      "outputs": [],
      "source": [
        "from sklearn.model_selection import train_test_split\n",
        "(x_train,x_test,y_train,y_test) = train_test_split(x,y,test_size=0.2,random_state=42)"
      ]
    },
    {
      "cell_type": "markdown",
      "metadata": {
        "id": "NJs_KtkW_liE"
      },
      "source": [
        "Logistic model"
      ]
    },
    {
      "cell_type": "code",
      "execution_count": 35,
      "metadata": {
        "id": "oHO2t_RC7yO4",
        "colab": {
          "base_uri": "https://localhost:8080/"
        },
        "outputId": "3e4541ac-17fd-4dc5-a781-92a7281d2856"
      },
      "outputs": [
        {
          "output_type": "stream",
          "name": "stdout",
          "text": [
            "0.9992102310054664\n",
            "[[1270790     114]\n",
            " [    891     729]]\n",
            "              precision    recall  f1-score   support\n",
            "\n",
            "           0       1.00      1.00      1.00   1270904\n",
            "           1       0.86      0.45      0.59      1620\n",
            "\n",
            "    accuracy                           1.00   1272524\n",
            "   macro avg       0.93      0.72      0.80   1272524\n",
            "weighted avg       1.00      1.00      1.00   1272524\n",
            "\n"
          ]
        }
      ],
      "source": [
        "from sklearn.linear_model import LogisticRegression\n",
        "from sklearn.metrics import accuracy_score,confusion_matrix,classification_report\n",
        "log = LogisticRegression()\n",
        "log.fit(x_train,y_train)\n",
        "y_pred = log.predict(x_test)\n",
        "print(accuracy_score(y_test,y_pred))\n",
        "print(confusion_matrix(y_test,y_pred))\n",
        "print(classification_report(y_test,y_pred))"
      ]
    },
    {
      "cell_type": "markdown",
      "metadata": {
        "id": "8W6JnYXn_rCp"
      },
      "source": [
        "Random Forest"
      ]
    },
    {
      "cell_type": "code",
      "execution_count": null,
      "metadata": {
        "colab": {
          "background_save": true
        },
        "id": "L-p5E6l18Lyy",
        "outputId": "62e4ba6a-ff29-401f-a56c-22a714caa68f"
      },
      "outputs": [
        {
          "name": "stdout",
          "output_type": "stream",
          "text": [
            "0.9996613030481154\n",
            "[[1270851      53]\n",
            " [    378    1242]]\n",
            "              precision    recall  f1-score   support\n",
            "\n",
            "           0       1.00      1.00      1.00   1270904\n",
            "           1       0.96      0.77      0.85      1620\n",
            "\n",
            "    accuracy                           1.00   1272524\n",
            "   macro avg       0.98      0.88      0.93   1272524\n",
            "weighted avg       1.00      1.00      1.00   1272524\n",
            "\n"
          ]
        }
      ],
      "source": [
        "from sklearn.ensemble import RandomForestClassifier\n",
        "rf = RandomForestClassifier()\n",
        "rf.fit(x_train,y_train)\n",
        "y_pred = rf.predict(x_test)\n",
        "print(accuracy_score(y_test,y_pred))\n",
        "print(confusion_matrix(y_test,y_pred))\n",
        "print(classification_report(y_test,y_pred))"
      ]
    },
    {
      "cell_type": "markdown",
      "source": [
        "xgboost"
      ],
      "metadata": {
        "id": "T2IJ8bMSXuG_"
      }
    },
    {
      "cell_type": "code",
      "execution_count": null,
      "metadata": {
        "colab": {
          "background_save": true
        },
        "id": "54CU-BSL9jYG",
        "outputId": "33eba140-151e-42b6-d34f-138a27d021b0"
      },
      "outputs": [
        {
          "name": "stdout",
          "output_type": "stream",
          "text": [
            "0.999607080102222\n",
            "[[1270854      50]\n",
            " [    450    1170]]\n",
            "              precision    recall  f1-score   support\n",
            "\n",
            "           0       1.00      1.00      1.00   1270904\n",
            "           1       0.96      0.72      0.82      1620\n",
            "\n",
            "    accuracy                           1.00   1272524\n",
            "   macro avg       0.98      0.86      0.91   1272524\n",
            "weighted avg       1.00      1.00      1.00   1272524\n",
            "\n"
          ]
        }
      ],
      "source": [
        "\n",
        "from xgboost import XGBClassifier\n",
        "xgb = XGBClassifier()\n",
        "xgb.fit(x_train,y_train)\n",
        "y_pred = xgb.predict(x_test)\n",
        "print(accuracy_score(y_test,y_pred))\n",
        "print(confusion_matrix(y_test,y_pred))\n",
        "print(classification_report(y_test,y_pred))"
      ]
    },
    {
      "cell_type": "markdown",
      "source": [
        "out of the 3 model that we used , random forest has the best recall values 0.77\n",
        "along with precision of 0.96\n"
      ],
      "metadata": {
        "id": "wVz_VWHwa2gz"
      }
    }
  ],
  "metadata": {
    "accelerator": "GPU",
    "colab": {
      "gpuType": "T4",
      "provenance": []
    },
    "kernelspec": {
      "display_name": "Python 3",
      "name": "python3"
    },
    "language_info": {
      "name": "python"
    }
  },
  "nbformat": 4,
  "nbformat_minor": 0
}